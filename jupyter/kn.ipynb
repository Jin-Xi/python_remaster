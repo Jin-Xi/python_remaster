{
 "cells": [
  {
   "cell_type": "code",
   "execution_count": 2,
   "metadata": {
    "collapsed": true,
    "ExecuteTime": {
     "start_time": "2024-07-02T01:50:10.613918Z",
     "end_time": "2024-07-02T01:50:10.616400Z"
    }
   },
   "outputs": [
    {
     "name": "stdout",
     "output_type": "stream",
     "text": [
      "[[1 2 3 1 2 3 1 2 3]\n",
      " [1 2 3 1 2 3 1 2 3]]\n"
     ]
    }
   ],
   "source": [
    "import numpy as np\n",
    "\n",
    "a = np.array([1, 2, 3])\n",
    "repeated_array = np.tile(a, (2, 3))\n",
    "print(repeated_array)\n"
   ]
  },
  {
   "cell_type": "code",
   "execution_count": null,
   "outputs": [],
   "source": [
    "def classify0(inx, dataSet, lables, k):\n",
    "    dataSetSize = dataSet.shape[0]\n",
    "    diffMat = np.tile(inx , (dataSetSize, 1)) - dataSet  # 构建一个和数据集一样大的数据集，但是都由inx构成，然后减去数据集得到差值\n",
    "    sqDiffMat = diffMat ** 2  # 平方差\n",
    "    sqDistances = sqDiffMat.sum(axis=1)  # 对每一个数据点求和，得到每个数据点的欧式距离\n",
    "    distances = sqDistances ** 0.5\n",
    "    sortedDistanceIndices = distances.argsort()  # 这返回的排序后的索引\n",
    "    classCount = {}\n",
    "    # 取k个近邻，然后\n",
    "    for i in range(k):\n",
    "        lable_name = lables[sortedDistanceIndices[i]]\n",
    "        classCount[lable_name] = classCount.get(lable_name, 0) + 1\n",
    "    classCount = sorted(classCount.items(), key=classCount.items(1), reverse=True)  # 从大到小排列排列\n",
    "    return classCount[0][0]  # 返回投票最多的标签"
   ],
   "metadata": {
    "collapsed": false
   }
  }
 ],
 "metadata": {
  "kernelspec": {
   "display_name": "Python 3",
   "language": "python",
   "name": "python3"
  },
  "language_info": {
   "codemirror_mode": {
    "name": "ipython",
    "version": 2
   },
   "file_extension": ".py",
   "mimetype": "text/x-python",
   "name": "python",
   "nbconvert_exporter": "python",
   "pygments_lexer": "ipython2",
   "version": "2.7.6"
  }
 },
 "nbformat": 4,
 "nbformat_minor": 0
}
