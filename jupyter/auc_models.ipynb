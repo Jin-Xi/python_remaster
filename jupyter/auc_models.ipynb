{
 "cells": [
  {
   "cell_type": "code",
   "execution_count": null,
   "outputs": [],
   "source": [
    "import pandas as pd\n",
    "import numpy as np\n",
    "import matplotlib.pyplot as plt\n",
    "from sklearn.model_selection import train_test_split\n",
    "from sklearn.ensemble import RandomForestClassifier\n",
    "from sklearn.metrics import accuracy_score, confusion_matrix, classification_report\n",
    "from sklearn.impute import KNNImputer\n",
    "from sklearn.preprocessing import LabelEncoder\n",
    "\n",
    "import xgboost as xgb\n",
    "import lightgbm as lgb\n",
    "from sklearn.tree import DecisionTreeClassifier\n",
    "from sklearn.neural_network import MLPClassifier\n",
    "from sklearn.linear_model import LogisticRegression\n",
    "from sklearn.metrics import roc_auc_score, roc_curve, auc\n",
    "from scipy.interpolate import UnivariateSpline\n",
    "\n",
    "from sklearn.model_selection import train_test_split\n",
    "from sklearn.svm import SVC\n",
    "from sklearn.metrics import accuracy_score, confusion_matrix, classification_report"
   ],
   "metadata": {
    "collapsed": false,
    "ExecuteTime": {
     "start_time": "2024-07-07T15:24:49.248104Z",
     "end_time": "2024-07-07T15:24:50.331631Z"
    }
   }
  },
  {
   "cell_type": "code",
   "execution_count": null,
   "metadata": {
    "collapsed": true,
    "ExecuteTime": {
     "start_time": "2024-06-26T23:30:17.864240Z",
     "end_time": "2024-06-26T23:30:17.886257Z"
    }
   },
   "outputs": [],
   "source": [
    "# drop num and G column\n",
    "p_data = pd.read_csv(\"p_data.csv\")\n",
    "# p_data = p_data.drop(columns=['num'])\n",
    "p_data = p_data.drop(columns=['G'])\n",
    "\n",
    "# 补齐数据\n",
    "# 有object数据，转换一下\n",
    "p_data['PTA'] = pd.to_numeric(p_data['PTA'], errors='coerce')\n",
    "p_data = p_data.dropna()\n",
    "# # 使用KNNImputer填补缺失值\n",
    "# imputer = KNNImputer(n_neighbors=10)\n",
    "# p_data = pd.DataFrame(imputer.fit_transform(p_data), columns=p_data.columns)\n",
    "# p_data.head(1000)\n",
    "\n",
    "# # 分割数据集\n",
    "X = p_data.drop(columns=['S'])\n",
    "y = p_data['S']\n",
    "X_train, X_test, y_train, y_test = train_test_split(X, y, test_size=0.3, random_state=42)"
   ]
  },
  {
   "cell_type": "code",
   "execution_count": null,
   "outputs": [],
   "source": [
    "value_counts = y_train.value_counts()\n",
    "plt.figure(figsize=(8, 6))\n",
    "ax = value_counts.plot(kind='bar', color='skyblue', edgecolor='black')\n",
    "\n",
    "for i in ax.containers:\n",
    "    ax.bar_label(i, label_type='edge')\n",
    "\n",
    "plt.title('Category Counts in Column S')\n",
    "plt.xlabel('Category')\n",
    "plt.ylabel('Count')\n",
    "plt.xticks(rotation=0)  # 设置x轴标签的旋转角度\n",
    "plt.show()"
   ],
   "metadata": {
    "collapsed": false,
    "ExecuteTime": {
     "start_time": "2024-06-26T23:30:18.788444Z",
     "end_time": "2024-06-26T23:30:18.889585Z"
    }
   }
  },
  {
   "cell_type": "markdown",
   "source": [
    "# 不采样"
   ],
   "metadata": {
    "collapsed": false
   }
  },
  {
   "cell_type": "code",
   "execution_count": null,
   "outputs": [],
   "source": [
    "# 3. 初始化模型\n",
    "models = {\n",
    "    'SVM': SVC(kernel='linear', probability=True, random_state=42),\n",
    "    'RandomForest': RandomForestClassifier(random_state=42),\n",
    "    'LogisticRegression': LogisticRegression(random_state=42),\n",
    "    'xgboost': xgb.XGBClassifier(use_label_encoder=False, eval_metric='auc', random_state=42),\n",
    "    'lightGBM': lgb.LGBMClassifier(random_state=42),\n",
    "    'DecisionTree': DecisionTreeClassifier(random_state=42),\n",
    "    'MLP': MLPClassifier(hidden_layer_sizes=(100, ),  # 设置隐藏层的神经元数量和层数\n",
    "                          activation='relu',  # 激活函数为 ReLU\n",
    "                          solver='adam',  # 优化器为 Adam\n",
    "                          alpha=0.0001,  # L2正则化参数\n",
    "                          max_iter=1000,  # 最大迭代次数\n",
    "                          random_state=42),\n",
    "}\n",
    "\n",
    "plt.figure()\n",
    "\n",
    "# 4. 训练模型并绘制ROC曲线\n",
    "for model_name, model in models.items():\n",
    "    model.fit(X_train, y_train)\n",
    "    y_probs = model.predict_proba(X_test)[:, 1]  # 获得预测为正类的概率\n",
    "    fpr, tpr, _ = roc_curve(y_test, y_probs)\n",
    "    auc = roc_auc_score(y_test, y_probs)\n",
    "    plt.plot(fpr, tpr, lw=2, label=f'{model_name} (AUC = {auc:.2f})')\n",
    "\n",
    "# 5. 绘制对角线\n",
    "plt.plot([0, 1], [0, 1], color='grey', lw=2, linestyle='--')\n",
    "\n",
    "# 6. 设置图形参数\n",
    "plt.xlim([0.0, 1.0])\n",
    "plt.ylim([0.0, 1.05])\n",
    "plt.xlabel('False Positive Rate')\n",
    "plt.ylabel('True Positive Rate')\n",
    "plt.title('Receiver Operating Characteristic (ROC) Curve')\n",
    "plt.legend(loc=\"lower right\")\n",
    "plt.show()"
   ],
   "metadata": {
    "collapsed": false,
    "ExecuteTime": {
     "start_time": "2024-06-26T23:30:21.959902Z",
     "end_time": "2024-06-26T23:30:39.514304Z"
    }
   }
  },
  {
   "cell_type": "code",
   "execution_count": null,
   "outputs": [],
   "source": [
    "# 采样\n",
    "from imblearn import over_sampling"
   ],
   "metadata": {
    "collapsed": false,
    "ExecuteTime": {
     "start_time": "2024-07-07T15:26:39.321971Z",
     "end_time": "2024-07-07T15:26:39.567402Z"
    }
   }
  },
  {
   "cell_type": "code",
   "execution_count": null,
   "outputs": [],
   "source": [
    "samplers = {\n",
    "    \"random\": over_sampling.RandomOverSampler(random_state=42),\n",
    "    \"smote\": over_sampling.SMOTE(random_state=42),\n",
    "    \"adasyn\": over_sampling.ADASYN(random_state=42),\n",
    "    \"SVMSMOTE\": over_sampling.SVMSMOTE(random_state=42),\n",
    "}\n",
    "\n",
    "\n",
    "\n",
    "models = {\n",
    "    'SVM': SVC(kernel='linear', probability=True, random_state=42),\n",
    "    'RandomForest': RandomForestClassifier(random_state=42),\n",
    "    'LogisticRegression': LogisticRegression(random_state=42),\n",
    "    'xgboost': xgb.XGBClassifier(use_label_encoder=False, eval_metric='auc', random_state=42),\n",
    "    'lightGBM': lgb.LGBMClassifier(random_state=42),\n",
    "    'DecisionTree': DecisionTreeClassifier(random_state=42),\n",
    "    'MLP': MLPClassifier(hidden_layer_sizes=(100, ),  # 设置隐藏层的神经元数量和层数\n",
    "                          activation='relu',  # 激活函数为 ReLU\n",
    "                          solver='adam',  # 优化器为 Adam\n",
    "                          alpha=0.0001,  # L2正则化参数\n",
    "                          max_iter=2000,  # 最大迭代次数\n",
    "                          random_state=42),\n",
    "}\n",
    "\n",
    "plt.figure(figsize=(10, 10))\n",
    "is_interpolate = 0\n",
    "# 4. 训练模型并绘制ROC曲线\n",
    "for model_name, model in models.items():\n",
    "    for sampler_name, sp in samplers.items():\n",
    "        if sp != \"no\":\n",
    "            X_train, y_train = sp.fit_resample(X_train, y_train)\n",
    "        model.fit(X_train, y_train)\n",
    "        y_probs = model.predict_proba(X_test)[:, 1]  # 获得预测为正类的概率\n",
    "        fpr, tpr, _ = roc_curve(y_test, y_probs)\n",
    "        auc = roc_auc_score(y_test, y_probs)\n",
    "\n",
    "        if is_interpolate:\n",
    "            # 计算 ROC 曲线和 AUC\n",
    "            fpr, tpr, _ = roc_curve(y_test, y_probs)\n",
    "            # 使用样条插值进行平滑\n",
    "            spline = UnivariateSpline(fpr, tpr)\n",
    "            fpr = np.linspace(fpr.min(), fpr.max(), 50)\n",
    "            tpr = spline(fpr)\n",
    "\n",
    "        plt.plot(fpr, tpr, lw=1.5, label=f'{model_name} + {sampler_name} (AUC = {auc:.2f})')\n",
    "\n",
    "# 5. 绘制对角线\n",
    "plt.plot([0, 1], [0, 1], color='grey', lw=1.5, linestyle='--')\n",
    "\n",
    "# 6. 设置图形参数\n",
    "plt.xlim([0.0, 1.0])\n",
    "plt.ylim([0.0, 1.05])\n",
    "plt.xlabel('False Positive Rate')\n",
    "plt.ylabel('True Positive Rate')\n",
    "plt.title('Receiver Operating Characteristic (ROC) Curve')\n",
    "plt.legend(loc=\"lower right\")\n",
    "plt.show()"
   ],
   "metadata": {
    "collapsed": false,
    "ExecuteTime": {
     "start_time": "2024-06-26T23:21:55.035421Z",
     "end_time": "2024-06-26T23:21:56.683694Z"
    }
   }
  },
  {
   "cell_type": "markdown",
   "source": [
    "# 归一化处理"
   ],
   "metadata": {
    "collapsed": false
   }
  },
  {
   "cell_type": "code",
   "execution_count": null,
   "outputs": [],
   "source": [
    "from sklearn.preprocessing import MinMaxScaler, StandardScaler"
   ],
   "metadata": {
    "collapsed": false,
    "ExecuteTime": {
     "start_time": "2024-07-07T15:26:35.121949Z",
     "end_time": "2024-07-07T15:26:35.222126Z"
    }
   }
  },
  {
   "cell_type": "code",
   "execution_count": null,
   "outputs": [],
   "source": [
    "# drop num and G column\n",
    "p_data = pd.read_csv(\"p_data.csv\")\n",
    "p_data = p_data.drop(columns=['num'])\n",
    "p_data = p_data.drop(columns=['G'])\n",
    "\n",
    "# 补齐数据\n",
    "# 有object数据，转换一下\n",
    "p_data['PTA'] = pd.to_numeric(p_data['PTA'], errors='coerce')\n",
    "\n",
    "# p_data = p_data.dropna()\n",
    "t_data = p_data[p_data.notnull().all(axis=1)]\n",
    "f_data = p_data[p_data.isnull().any(axis=1)]\n",
    "# print(\"do not contain Nan data t_data.shape: \", t_data.shape, \", contain Nan data f_data.shape:\", f_data.shape)\n",
    "\n",
    "# imputer = KNNImputer(n_neighbors=5)\n",
    "# p_data = pd.DataFrame(imputer.fit_transform(p_data), columns=p_data.columns)\n",
    "\n",
    "# # 分割数据集\n",
    "X = t_data.drop(columns=['S'])\n",
    "y = t_data['S']\n",
    "X_train, X_test, y_train, y_test = train_test_split(X, y, test_size=0.3, random_state=42)\n",
    "\n",
    "print(\"X_train.shape:\", X_train.shape, \", X_test.shape:\", X_test.shape)"
   ],
   "metadata": {
    "collapsed": false,
    "ExecuteTime": {
     "start_time": "2024-06-27T02:22:52.704634Z",
     "end_time": "2024-06-27T02:22:52.739888Z"
    }
   }
  },
  {
   "cell_type": "code",
   "execution_count": null,
   "outputs": [],
   "source": [
    "X_train = pd.concat([X_train, f_data.drop(columns=['S'])], axis=0)\n",
    "y_train = pd.concat([y_train, f_data['S']], axis=0)\n",
    "print(\"(X_train.shape), (X_test.shape) after concat null columns\", X_train.shape, X_test.shape)\n",
    "X_train.head(1000)"
   ],
   "metadata": {
    "collapsed": false,
    "ExecuteTime": {
     "start_time": "2024-06-27T02:22:56.996496Z",
     "end_time": "2024-06-27T02:22:57.033945Z"
    }
   }
  },
  {
   "cell_type": "code",
   "execution_count": null,
   "outputs": [],
   "source": [
    "# # 使用KNNImputer填补缺失值\n",
    "imputer = KNNImputer(n_neighbors=5)\n",
    "X_train = pd.DataFrame(imputer.fit_transform(X_train), columns=X_train.columns)\n",
    "X_train = X_train.fillna(X_train.mean()[\"PTA\"])\n",
    "# X_train = X_train.drop(columns=['PTA'])\n",
    "# X_test = X_test.drop(columns=['PTA'])\n",
    "\n",
    "X_train.head(1000)"
   ],
   "metadata": {
    "collapsed": false,
    "ExecuteTime": {
     "start_time": "2024-06-27T02:23:13.351210Z",
     "end_time": "2024-06-27T02:23:13.420197Z"
    }
   }
  },
  {
   "cell_type": "code",
   "execution_count": null,
   "outputs": [],
   "source": [
    "samplers = {\n",
    "    \"no\": -1,\n",
    "    \"random\": over_sampling.RandomOverSampler(random_state=42),\n",
    "    \"smote\": over_sampling.SMOTE(random_state=42),\n",
    "    \"adasyn\": over_sampling.ADASYN(random_state=42),\n",
    "    \"SVMSMOTE\": over_sampling.SVMSMOTE(random_state=42),\n",
    "    \"KMeansSMOTE\": over_sampling.KMeansSMOTE(random_state=42),\n",
    "    \"BorderlineSMOTE\": over_sampling.BorderlineSMOTE(random_state=42),\n",
    "    # \"SMOTENC\": over_sampling.SMOTENC(random_state=42)\n",
    "}\n",
    "\n",
    "scalers = {\n",
    "    \"no\": -1,\n",
    "    \"minmax\": MinMaxScaler(),\n",
    "    \"standard\": StandardScaler()\n",
    "}\n",
    "\n",
    "models = {\n",
    "    'SVM': SVC(kernel='linear', probability=True, random_state=42),\n",
    "    'RandomForest': RandomForestClassifier(random_state=42),\n",
    "    'LogisticRegression': LogisticRegression(random_state=42),\n",
    "    'xgboost': xgb.XGBClassifier(use_label_encoder=False, eval_metric='auc', random_state=42),\n",
    "    'xgboost2': xgb.XGBClassifier(use_label_encoder=True, eval_metric='auc', random_state=42),\n",
    "    'lightGBM': lgb.LGBMClassifier(random_state=42),\n",
    "    'DecisionTree': DecisionTreeClassifier(random_state=42),\n",
    "    'MLP': MLPClassifier(hidden_layer_sizes=(100, ),  # 设置隐藏层的神经元数量和层数\n",
    "                          activation='relu',  # 激活函数为 ReLU\n",
    "                          solver='adam',  # 优化器为 Adam\n",
    "                          alpha=0.0001,  # L2正则化参数\n",
    "                          max_iter=10000,  # 最大迭代次数\n",
    "                          random_state=42),\n",
    "}\n",
    "\n",
    "plt.figure(figsize=(10, 10))\n",
    "# 4. 训练模型并绘制ROC曲线\n",
    "for model_name, model in models.items():\n",
    "    for sampler_name, sp in samplers.items():\n",
    "        if sampler_name != \"no\":\n",
    "            X_tmp, y_tmp = sp.fit_resample(X_train, y_train)\n",
    "            model.fit(X_tmp, y_tmp)\n",
    "        else:\n",
    "            model.fit(X_train, y_train)\n",
    "        y_probs = model.predict_proba(X_test)[:, 1]  # 获得预测为正类的概率\n",
    "        fpr, tpr, _ = roc_curve(y_test, y_probs)\n",
    "        auc = roc_auc_score(y_test, y_probs)\n",
    "\n",
    "        plt.plot(fpr, tpr, lw=1.5, label=f'{model_name} + {sampler_name} (AUC = {auc:.4f})')\n",
    "\n",
    "# 5. 绘制对角线\n",
    "plt.plot([0, 1], [0, 1], color='grey', lw=1.5, linestyle='--')\n",
    "\n",
    "# 6. 设置图形参数\n",
    "plt.xlim([0.0, 1.0])\n",
    "plt.ylim([0.0, 1.05])\n",
    "plt.xlabel('False Positive Rate')\n",
    "plt.ylabel('True Positive Rate')\n",
    "plt.title('Receiver Operating Characteristic (ROC) Curve')\n",
    "plt.legend(loc=\"lower right\")\n",
    "plt.show()"
   ],
   "metadata": {
    "collapsed": false,
    "ExecuteTime": {
     "start_time": "2024-06-27T02:23:19.952837Z",
     "end_time": "2024-06-27T02:26:27.894992Z"
    }
   }
  },
  {
   "cell_type": "markdown",
   "source": [
    "### 筛选出lightGBM"
   ],
   "metadata": {
    "collapsed": false
   }
  },
  {
   "cell_type": "code",
   "execution_count": null,
   "outputs": [],
   "source": [
    "import optuna"
   ],
   "metadata": {
    "collapsed": false,
    "ExecuteTime": {
     "start_time": "2024-06-27T02:30:42.059189Z",
     "end_time": "2024-06-27T02:30:42.103719Z"
    }
   }
  },
  {
   "cell_type": "code",
   "execution_count": null,
   "outputs": [],
   "source": [
    "# 定义目标函数\n",
    "def objective(trial):\n",
    "    param = {\n",
    "        'objective': 'binary',\n",
    "        'metric': 'auc',\n",
    "        'verbosity': -1,\n",
    "        'boosting_type': 'gbdt',\n",
    "        'num_leaves': trial.suggest_int('num_leaves', 20, 100),\n",
    "        'max_depth': trial.suggest_int('max_depth', 4, 15),\n",
    "        'learning_rate': trial.suggest_loguniform('learning_rate', 0.01, 0.3),\n",
    "        'n_estimators': trial.suggest_int('n_estimators', 10, 1000),\n",
    "        'min_child_samples': trial.suggest_int('min_child_samples', 5, 50),\n",
    "        'subsample': trial.suggest_uniform('subsample', 0.5, 1.0),\n",
    "        'colsample_bytree': trial.suggest_uniform('colsample_bytree', 0.5, 1.0),\n",
    "        'reg_alpha': trial.suggest_loguniform('reg_alpha', 1e-8, 1.0),\n",
    "        'reg_lambda': trial.suggest_loguniform('reg_lambda', 1e-8, 1.0),\n",
    "    }\n",
    "\n",
    "    dtrain = lgb.Dataset(X_train, label=y_train)\n",
    "    dvalid = lgb.Dataset(X_test, label=y_test, reference=dtrain)\n",
    "\n",
    "    # 训练模型\n",
    "    gbm = lgb.train(param, dtrain, valid_sets=[dvalid])\n",
    "\n",
    "    # 预测验证集\n",
    "    y_pred = gbm.predict(X_test, num_iteration=gbm.best_iteration)\n",
    "\n",
    "    # 计算 AUC\n",
    "    auc = roc_auc_score(y_test, y_pred)\n",
    "\n",
    "    return auc\n",
    "\n",
    "# 创建 Optuna 的 study 对象\n",
    "study = optuna.create_study(direction='maximize')\n",
    "study.optimize(objective, n_trials=1000, timeout=6000)\n",
    "\n",
    "# 输出最佳超参数\n",
    "print('Number of finished trials: ', len(study.trials))\n",
    "print('Best trial:')\n",
    "trial = study.best_trial\n",
    "\n",
    "print('  Value: ', trial.value)\n",
    "\n",
    "print('  Params: ')\n",
    "for key, value in trial.params.items():\n",
    "    print(f'    {key}: {value}')"
   ],
   "metadata": {
    "collapsed": false,
    "ExecuteTime": {
     "start_time": "2024-06-27T02:35:54.033903Z",
     "end_time": "2024-06-27T02:48:48.072725Z"
    }
   }
  },
  {
   "cell_type": "code",
   "execution_count": null,
   "outputs": [],
   "source": [
    "trial.params"
   ],
   "metadata": {
    "collapsed": false,
    "ExecuteTime": {
     "start_time": "2024-06-27T13:09:48.609911Z",
     "end_time": "2024-06-27T13:09:48.645677Z"
    }
   }
  },
  {
   "cell_type": "code",
   "execution_count": null,
   "outputs": [],
   "source": [
    "rs = over_sampling.RandomOverSampler(random_state=42)\n",
    "\n",
    "X_tmp, y_tmp = rs.fit_resample(X_train, y_train)\n",
    "\n",
    "dtrain = lgb.Dataset(X_tmp, label=y_tmp)\n",
    "dvalid = lgb.Dataset(X_test, label=y_test, reference=dtrain)\n",
    "\n",
    "# 训练模型\n",
    "gbm = lgb.train(trial.params, dtrain, valid_sets=[dvalid])\n",
    "\n",
    "# 预测验证集\n",
    "y_pred = gbm.predict(X_test, num_iteration=gbm.best_iteration)\n",
    "\n",
    "fpr, tpr, _ = roc_curve(y_test, y_probs)\n",
    "auc = roc_auc_score(y_test, y_probs)\n",
    "\n",
    "plt.plot(fpr, tpr, lw=1.5, label=f'{model_name} (AUC = {auc:.4f})')\n",
    "# 5. 绘制对角线\n",
    "plt.plot([0, 1], [0, 1], color='grey', lw=1.5, linestyle='--')\n",
    "\n",
    "# 6. 设置图形参数\n",
    "plt.xlim([0.0, 1.0])\n",
    "plt.ylim([0.0, 1.05])\n",
    "plt.xlabel('False Positive Rate')\n",
    "plt.ylabel('True Positive Rate')\n",
    "plt.title('Receiver Operating Characteristic (ROC) Curve')\n",
    "plt.legend(loc=\"lower right\")\n",
    "plt.show()"
   ],
   "metadata": {
    "collapsed": false,
    "ExecuteTime": {
     "start_time": "2024-06-27T13:12:27.103974Z",
     "end_time": "2024-06-27T13:12:29.289514Z"
    }
   }
  },
  {
   "cell_type": "code",
   "execution_count": null,
   "outputs": [],
   "source": [
    "# drop num and G column\n",
    "p_data = pd.read_csv(\"p_data.csv\")\n",
    "p_data = p_data.drop(columns=['num'])\n",
    "p_data = p_data.drop(columns=['G'])\n",
    "\n",
    "# 补齐数据\n",
    "# 有object数据，转换一下\n",
    "p_data['PTA'] = pd.to_numeric(p_data['PTA'], errors='coerce')\n",
    "\n",
    "p_data = p_data.dropna()\n",
    "# t_data = p_data[p_data.notnull().all(axis=1)]\n",
    "# f_data = p_data[p_data.isnull().any(axis=1)]\n",
    "# print(\"do not contain Nan data t_data.shape: \", t_data.shape, \", contain Nan data f_data.shape:\", f_data.shape)\n",
    "\n",
    "# imputer = KNNImputer(n_neighbors=5)\n",
    "# p_data = pd.DataFrame(imputer.fit_transform(p_data), columns=p_data.columns)\n",
    "\n",
    "# # 分割数据集\n",
    "X = p_data.drop(columns=['S'])\n",
    "y = p_data['S']\n",
    "X_train, X_test, y_train, y_test = train_test_split(X, y, test_size=0.3, random_state=42)\n",
    "\n",
    "print(\"X_train.shape:\", X_train.shape, \", X_test.shape:\", X_test.shape)"
   ],
   "metadata": {
    "collapsed": false,
    "ExecuteTime": {
     "start_time": "2024-06-27T23:29:50.800137Z",
     "end_time": "2024-06-27T23:29:50.841617Z"
    }
   }
  },
  {
   "cell_type": "code",
   "execution_count": 18,
   "outputs": [
    {
     "name": "stdout",
     "output_type": "stream",
     "text": [
      "X_train.shape: (182, 20) , X_test.shape: (77, 20)\n"
     ]
    }
   ],
   "source": [
    "samplers = {\n",
    "    \"no\": -1,\n",
    "    \"random\": over_sampling.RandomOverSampler(random_state=42),\n",
    "    \"smote\": over_sampling.SMOTE(random_state=42),\n",
    "    \"adasyn\": over_sampling.ADASYN(random_state=42),\n",
    "    \"SVMSMOTE\": over_sampling.SVMSMOTE(random_state=42),\n",
    "    \"KMeansSMOTE\": over_sampling.KMeansSMOTE(random_state=42),\n",
    "    \"BorderlineSMOTE\": over_sampling.BorderlineSMOTE(random_state=42),\n",
    "    # \"SMOTENC\": over_sampling.SMOTENC(random_state=42)\n",
    "}\n",
    "\n",
    "\n",
    "models = {\n",
    "    'SVM': SVC(kernel='linear', probability=True, random_state=42),\n",
    "    'RandomForest': RandomForestClassifier(random_state=42),\n",
    "    'LogisticRegression': LogisticRegression(random_state=42),\n",
    "    'xgboost': xgb.XGBClassifier(use_label_encoder=False, eval_metric='auc', random_state=42),\n",
    "    'xgboost2': xgb.XGBClassifier(use_label_encoder=True, eval_metric='auc', random_state=42),\n",
    "    'lightGBM': lgb.LGBMClassifier(random_state=42),\n",
    "    'DecisionTree': DecisionTreeClassifier(random_state=42),\n",
    "    'MLP': MLPClassifier(hidden_layer_sizes=(32, 16, 8),  # 设置隐藏层的神经元数量和层数\n",
    "                          activation='relu',  # 激活函数为 ReLU\n",
    "                          solver='adam',  # 优化器为 Adam\n",
    "                          alpha=0.0001,  # L2正则化参数\n",
    "                          max_iter=10000,  # 最大迭代次数\n",
    "                          random_state=42),\n",
    "}\n",
    "\n",
    "model_categories = [model_name for model_name, _ in models.items()]\n",
    "aucs = {\n",
    "    sampler_name:[] for sampler_name, _ in samplers.items()\n",
    "}\n",
    "\n",
    "# 4. 训练模型并绘制ROC曲线\n",
    "for model_name, model in models.items():\n",
    "    for sampler_name, sp in samplers.items():\n",
    "        if sampler_name != \"no\":\n",
    "            X_tmp, y_tmp = sp.fit_resample(X_train, y_train)\n",
    "            model.fit(X_tmp, y_tmp)\n",
    "        else:\n",
    "            model.fit(X_train, y_train)\n",
    "        y_probs = model.predict_proba(X_test)[:, 1]  # 获得预测为正类的概率\n",
    "        fpr, tpr, _ = roc_curve(y_test, y_probs)\n",
    "        auc = roc_auc_score(y_test, y_probs)\n",
    "\n",
    "        aucs[sampler_name].append(auc)"
   ],
   "metadata": {
    "collapsed": false,
    "ExecuteTime": {
     "start_time": "2024-07-07T15:57:40.387298Z",
     "end_time": "2024-07-07T15:57:40.416101Z"
    }
   }
  },
  {
   "cell_type": "code",
   "execution_count": 19,
   "outputs": [
    {
     "data": {
      "text/plain": "     diagnosis  Gender  HBeAg  Age   ALB  Tbil    ALT    AST    GGT    ALP   \n0            1       0      1   25  40.6   8.6   46.2   25.2   13.8   59.0  \\\n1            0       1      1   30  48.0  13.2   54.0   30.0   17.0   64.0   \n2            0       1      1   29  48.0  17.6  252.0   96.0   45.0   97.0   \n3            1       0      1   49  38.0   7.7   31.0   22.0   26.0   76.0   \n4            0       1      1   27  47.0  23.6  657.0  309.0  432.0   96.0   \n..         ...     ...    ...  ...   ...   ...    ...    ...    ...    ...   \n177          1       1      0   45  45.2  22.7   74.9   52.9  137.1  109.7   \n178          1       1      1   28  41.5  12.1   24.6   25.6   64.4  162.3   \n179          1       0      1   65  36.2  23.9  272.0   58.6  155.9  181.9   \n180          0       1      0   39  45.0  10.3   70.0   24.0   33.0  133.0   \n181          0       0      1   29  40.0  24.0   77.0   39.0   10.0   43.0   \n\n     ...  lg.sAg    WBC  NEUT  HGB  PLT    PT     PTA   INR  APTT    AFP  \n0    ...   4.245   4.75  2.49  136  242  14.1   88.00  1.08  35.8   3.18  \n1    ...   4.166   5.50  3.30  161  246  12.3  114.00  0.92  38.3   1.50  \n2    ...   4.398  10.10  5.30  182  299  14.4   82.00  1.13  38.6   4.52  \n3    ...   2.853   7.20  4.50  126  183  13.5   93.00  1.04  36.1   1.80  \n4    ...   4.868   6.00  3.50  145  211  13.5   93.00  1.04  40.0   5.60  \n..   ...     ...    ...   ...  ...  ...   ...     ...   ...   ...    ...  \n177  ...   3.343   3.50  2.10  160   77  12.6   81.40  1.09  29.3   3.28  \n178  ...   2.634   5.40  2.70  135  159  13.6   98.91  1.07  35.2  44.03  \n179  ...   2.398   4.14  2.12  148  309  11.9  126.00  0.88  34.5   9.12  \n180  ...   3.767   7.20  4.50  156  222  12.7  112.00  0.94  36.6   3.40  \n181  ...   4.599   6.20  4.30  133  200  13.2   98.00  1.01  34.9   0.50  \n\n[182 rows x 21 columns]",
      "text/html": "<div>\n<style scoped>\n    .dataframe tbody tr th:only-of-type {\n        vertical-align: middle;\n    }\n\n    .dataframe tbody tr th {\n        vertical-align: top;\n    }\n\n    .dataframe thead th {\n        text-align: right;\n    }\n</style>\n<table border=\"1\" class=\"dataframe\">\n  <thead>\n    <tr style=\"text-align: right;\">\n      <th></th>\n      <th>diagnosis</th>\n      <th>Gender</th>\n      <th>HBeAg</th>\n      <th>Age</th>\n      <th>ALB</th>\n      <th>Tbil</th>\n      <th>ALT</th>\n      <th>AST</th>\n      <th>GGT</th>\n      <th>ALP</th>\n      <th>...</th>\n      <th>lg.sAg</th>\n      <th>WBC</th>\n      <th>NEUT</th>\n      <th>HGB</th>\n      <th>PLT</th>\n      <th>PT</th>\n      <th>PTA</th>\n      <th>INR</th>\n      <th>APTT</th>\n      <th>AFP</th>\n    </tr>\n  </thead>\n  <tbody>\n    <tr>\n      <th>0</th>\n      <td>1</td>\n      <td>0</td>\n      <td>1</td>\n      <td>25</td>\n      <td>40.6</td>\n      <td>8.6</td>\n      <td>46.2</td>\n      <td>25.2</td>\n      <td>13.8</td>\n      <td>59.0</td>\n      <td>...</td>\n      <td>4.245</td>\n      <td>4.75</td>\n      <td>2.49</td>\n      <td>136</td>\n      <td>242</td>\n      <td>14.1</td>\n      <td>88.00</td>\n      <td>1.08</td>\n      <td>35.8</td>\n      <td>3.18</td>\n    </tr>\n    <tr>\n      <th>1</th>\n      <td>0</td>\n      <td>1</td>\n      <td>1</td>\n      <td>30</td>\n      <td>48.0</td>\n      <td>13.2</td>\n      <td>54.0</td>\n      <td>30.0</td>\n      <td>17.0</td>\n      <td>64.0</td>\n      <td>...</td>\n      <td>4.166</td>\n      <td>5.50</td>\n      <td>3.30</td>\n      <td>161</td>\n      <td>246</td>\n      <td>12.3</td>\n      <td>114.00</td>\n      <td>0.92</td>\n      <td>38.3</td>\n      <td>1.50</td>\n    </tr>\n    <tr>\n      <th>2</th>\n      <td>0</td>\n      <td>1</td>\n      <td>1</td>\n      <td>29</td>\n      <td>48.0</td>\n      <td>17.6</td>\n      <td>252.0</td>\n      <td>96.0</td>\n      <td>45.0</td>\n      <td>97.0</td>\n      <td>...</td>\n      <td>4.398</td>\n      <td>10.10</td>\n      <td>5.30</td>\n      <td>182</td>\n      <td>299</td>\n      <td>14.4</td>\n      <td>82.00</td>\n      <td>1.13</td>\n      <td>38.6</td>\n      <td>4.52</td>\n    </tr>\n    <tr>\n      <th>3</th>\n      <td>1</td>\n      <td>0</td>\n      <td>1</td>\n      <td>49</td>\n      <td>38.0</td>\n      <td>7.7</td>\n      <td>31.0</td>\n      <td>22.0</td>\n      <td>26.0</td>\n      <td>76.0</td>\n      <td>...</td>\n      <td>2.853</td>\n      <td>7.20</td>\n      <td>4.50</td>\n      <td>126</td>\n      <td>183</td>\n      <td>13.5</td>\n      <td>93.00</td>\n      <td>1.04</td>\n      <td>36.1</td>\n      <td>1.80</td>\n    </tr>\n    <tr>\n      <th>4</th>\n      <td>0</td>\n      <td>1</td>\n      <td>1</td>\n      <td>27</td>\n      <td>47.0</td>\n      <td>23.6</td>\n      <td>657.0</td>\n      <td>309.0</td>\n      <td>432.0</td>\n      <td>96.0</td>\n      <td>...</td>\n      <td>4.868</td>\n      <td>6.00</td>\n      <td>3.50</td>\n      <td>145</td>\n      <td>211</td>\n      <td>13.5</td>\n      <td>93.00</td>\n      <td>1.04</td>\n      <td>40.0</td>\n      <td>5.60</td>\n    </tr>\n    <tr>\n      <th>...</th>\n      <td>...</td>\n      <td>...</td>\n      <td>...</td>\n      <td>...</td>\n      <td>...</td>\n      <td>...</td>\n      <td>...</td>\n      <td>...</td>\n      <td>...</td>\n      <td>...</td>\n      <td>...</td>\n      <td>...</td>\n      <td>...</td>\n      <td>...</td>\n      <td>...</td>\n      <td>...</td>\n      <td>...</td>\n      <td>...</td>\n      <td>...</td>\n      <td>...</td>\n      <td>...</td>\n    </tr>\n    <tr>\n      <th>177</th>\n      <td>1</td>\n      <td>1</td>\n      <td>0</td>\n      <td>45</td>\n      <td>45.2</td>\n      <td>22.7</td>\n      <td>74.9</td>\n      <td>52.9</td>\n      <td>137.1</td>\n      <td>109.7</td>\n      <td>...</td>\n      <td>3.343</td>\n      <td>3.50</td>\n      <td>2.10</td>\n      <td>160</td>\n      <td>77</td>\n      <td>12.6</td>\n      <td>81.40</td>\n      <td>1.09</td>\n      <td>29.3</td>\n      <td>3.28</td>\n    </tr>\n    <tr>\n      <th>178</th>\n      <td>1</td>\n      <td>1</td>\n      <td>1</td>\n      <td>28</td>\n      <td>41.5</td>\n      <td>12.1</td>\n      <td>24.6</td>\n      <td>25.6</td>\n      <td>64.4</td>\n      <td>162.3</td>\n      <td>...</td>\n      <td>2.634</td>\n      <td>5.40</td>\n      <td>2.70</td>\n      <td>135</td>\n      <td>159</td>\n      <td>13.6</td>\n      <td>98.91</td>\n      <td>1.07</td>\n      <td>35.2</td>\n      <td>44.03</td>\n    </tr>\n    <tr>\n      <th>179</th>\n      <td>1</td>\n      <td>0</td>\n      <td>1</td>\n      <td>65</td>\n      <td>36.2</td>\n      <td>23.9</td>\n      <td>272.0</td>\n      <td>58.6</td>\n      <td>155.9</td>\n      <td>181.9</td>\n      <td>...</td>\n      <td>2.398</td>\n      <td>4.14</td>\n      <td>2.12</td>\n      <td>148</td>\n      <td>309</td>\n      <td>11.9</td>\n      <td>126.00</td>\n      <td>0.88</td>\n      <td>34.5</td>\n      <td>9.12</td>\n    </tr>\n    <tr>\n      <th>180</th>\n      <td>0</td>\n      <td>1</td>\n      <td>0</td>\n      <td>39</td>\n      <td>45.0</td>\n      <td>10.3</td>\n      <td>70.0</td>\n      <td>24.0</td>\n      <td>33.0</td>\n      <td>133.0</td>\n      <td>...</td>\n      <td>3.767</td>\n      <td>7.20</td>\n      <td>4.50</td>\n      <td>156</td>\n      <td>222</td>\n      <td>12.7</td>\n      <td>112.00</td>\n      <td>0.94</td>\n      <td>36.6</td>\n      <td>3.40</td>\n    </tr>\n    <tr>\n      <th>181</th>\n      <td>0</td>\n      <td>0</td>\n      <td>1</td>\n      <td>29</td>\n      <td>40.0</td>\n      <td>24.0</td>\n      <td>77.0</td>\n      <td>39.0</td>\n      <td>10.0</td>\n      <td>43.0</td>\n      <td>...</td>\n      <td>4.599</td>\n      <td>6.20</td>\n      <td>4.30</td>\n      <td>133</td>\n      <td>200</td>\n      <td>13.2</td>\n      <td>98.00</td>\n      <td>1.01</td>\n      <td>34.9</td>\n      <td>0.50</td>\n    </tr>\n  </tbody>\n</table>\n<p>182 rows × 21 columns</p>\n</div>"
     },
     "execution_count": 19,
     "metadata": {},
     "output_type": "execute_result"
    }
   ],
   "source": [
    "aucs"
   ],
   "metadata": {
    "collapsed": false,
    "ExecuteTime": {
     "start_time": "2024-07-07T15:57:42.242344Z",
     "end_time": "2024-07-07T15:57:42.299798Z"
    }
   }
  },
  {
   "cell_type": "code",
   "execution_count": null,
   "outputs": [],
   "source": [
    "# 设置每个大柱子的位置和宽度\n",
    "x = np.arange(len(model_categories))\n",
    "# width = 0.1  # 每个小柱子的宽度\n",
    "num_groups = len(samplers)  # 每个大柱子分成的小组数\n",
    "bar_width = 0.1  # 每个小柱子的宽度\n",
    "# 绘图\n",
    "fig, ax = plt.subplots(figsize=(15, 6))\n",
    "max_auc = 0\n",
    "max_index = 0\n",
    "max_bar = None\n",
    "for index, (sampler_name, _) in enumerate(samplers.items()):\n",
    "    ax.bar(x + index * bar_width - (num_groups - 1) * bar_width / 2, aucs[sampler_name], bar_width, label=sampler_name)\n",
    "\n",
    "# 添加标签、标题和图例\n",
    "ax.set_xlabel('Model Categories')\n",
    "ax.set_ylabel('AUC ')\n",
    "ax.set_title('models with different sample methods')\n",
    "ax.set_xticks(x)\n",
    "ax.set_xticklabels(model_categories)\n",
    "ax.legend()\n",
    "\n",
    "# 显示图形\n",
    "plt.tight_layout()\n",
    "plt.show()"
   ],
   "metadata": {
    "collapsed": false,
    "ExecuteTime": {
     "start_time": "2024-07-07T15:39:33.931487Z",
     "end_time": "2024-07-07T15:39:33.975489Z"
    }
   }
  },
  {
   "cell_type": "code",
   "execution_count": null,
   "outputs": [],
   "source": [],
   "metadata": {
    "collapsed": false,
    "ExecuteTime": {
     "start_time": "2024-07-07T15:47:40.554225Z",
     "end_time": "2024-07-07T15:52:26.770423Z"
    }
   }
  }
 ],
 "metadata": {
  "kernelspec": {
   "display_name": "Python 3",
   "language": "python",
   "name": "python3"
  },
  "language_info": {
   "codemirror_mode": {
    "name": "ipython",
    "version": 2
   },
   "file_extension": ".py",
   "mimetype": "text/x-python",
   "name": "python",
   "nbconvert_exporter": "python",
   "pygments_lexer": "ipython2",
   "version": "2.7.6"
  }
 },
 "nbformat": 4,
 "nbformat_minor": 0
}
